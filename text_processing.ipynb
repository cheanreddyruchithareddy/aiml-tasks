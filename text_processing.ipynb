{
 "cells": [
  {
   "cell_type": "code",
   "execution_count": 21,
   "id": "c2109eac-e94a-4cd9-b39e-66d2df0e9879",
   "metadata": {},
   "outputs": [],
   "source": [
    "def remove_punc(input_text):\n",
    "    punctuation_marks = ['.','?','!','#','$','%','&',';',',']\n",
    "    output_text = \"\"\n",
    "    for char in input_text:\n",
    "        if char not in punctuation_marks:\n",
    "            output_text += char\n",
    "    return output_text"
   ]
  },
  {
   "cell_type": "code",
   "execution_count": 23,
   "id": "fed974dc-97e7-4b18-9c7f-114097ae583e",
   "metadata": {},
   "outputs": [
    {
     "data": {
      "text/plain": [
       "'hello \"How are you\"'"
      ]
     },
     "execution_count": 23,
     "metadata": {},
     "output_type": "execute_result"
    }
   ],
   "source": [
    "remove_punc('''hello!, \"How are you?\"''')"
   ]
  },
  {
   "cell_type": "code",
   "execution_count": 42,
   "id": "5f5d8493-b3e6-4432-befd-fb74d8155698",
   "metadata": {},
   "outputs": [],
   "source": [
    "def remove_stopwords(input_text):\n",
    "    stop_words = [ \"is\", \"and\", \"the\", \"a\", \"an\", \"in\", \"on\", \"with\", \"at\",\"was\",\"it\"]\n",
    "    #words = input_text.split()\n",
    "    filtered_words = []\n",
    "    for word in input_text:\n",
    "        if word.lower() not in stop_words:\n",
    "            filtered_words.append(word)\n",
    "            output_text = ''.join(filtered_words)\n",
    "    return (output_text)"
   ]
  },
  {
   "cell_type": "code",
   "execution_count": 44,
   "id": "53fce6e4-13c9-46d1-a13f-8e5a1b858fa9",
   "metadata": {},
   "outputs": [
    {
     "data": {
      "text/plain": [
       "'the movie ws good if it is  hit'"
      ]
     },
     "execution_count": 44,
     "metadata": {},
     "output_type": "execute_result"
    }
   ],
   "source": [
    "remove_stopwords(\"the movie was good if it is a hit\")"
   ]
  },
  {
   "cell_type": "code",
   "execution_count": null,
   "id": "07c4a393-d33e-4c3e-a481-d182d66e0175",
   "metadata": {},
   "outputs": [],
   "source": []
  }
 ],
 "metadata": {
  "kernelspec": {
   "display_name": "Python [conda env:base] *",
   "language": "python",
   "name": "conda-base-py"
  },
  "language_info": {
   "codemirror_mode": {
    "name": "ipython",
    "version": 3
   },
   "file_extension": ".py",
   "mimetype": "text/x-python",
   "name": "python",
   "nbconvert_exporter": "python",
   "pygments_lexer": "ipython3",
   "version": "3.12.7"
  }
 },
 "nbformat": 4,
 "nbformat_minor": 5
}
