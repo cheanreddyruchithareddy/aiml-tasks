{
 "cells": [
  {
   "cell_type": "code",
   "execution_count": 1,
   "id": "42203481",
   "metadata": {},
   "outputs": [
    {
     "name": "stdout",
     "output_type": "stream",
     "text": [
      "even\n"
     ]
    }
   ],
   "source": [
    "num = 6\n",
    "if num %2 == 0:\n",
    "    print(\"even\")\n",
    "else:\n",
    "    print(\"odd\")"
   ]
  },
  {
   "cell_type": "code",
   "execution_count": 2,
   "id": "c49f4861",
   "metadata": {},
   "outputs": [
    {
     "ename": "SyntaxError",
     "evalue": "invalid syntax (2771899011.py, line 1)",
     "output_type": "error",
     "traceback": [
      "\u001b[1;36m  Cell \u001b[1;32mIn[2], line 1\u001b[1;36m\u001b[0m\n\u001b[1;33m    print(\"even\") if num %2 == 0: else: print(\"odd\")\u001b[0m\n\u001b[1;37m                                ^\u001b[0m\n\u001b[1;31mSyntaxError\u001b[0m\u001b[1;31m:\u001b[0m invalid syntax\n"
     ]
    }
   ],
   "source": [
    "print(\"even\") if num %2 == 0: else: print(\"odd\")"
   ]
  },
  {
   "cell_type": "code",
   "execution_count": 3,
   "id": "22dba62a",
   "metadata": {},
   "outputs": [
    {
     "name": "stdout",
     "output_type": "stream",
     "text": [
      "Positive\n"
     ]
    }
   ],
   "source": [
    "x = 10\n",
    "result = \"Positive\" if x > 0 else \"negative\"\n",
    "print(result)"
   ]
  },
  {
   "cell_type": "code",
   "execution_count": 4,
   "id": "9af8bda4",
   "metadata": {},
   "outputs": [
    {
     "name": "stdout",
     "output_type": "stream",
     "text": [
      "Adult\n"
     ]
    }
   ],
   "source": [
    "age = 18\n",
    "category = \"Adult\" if age >= 18 else \"Minor\"\n",
    "print(category)"
   ]
  },
  {
   "cell_type": "code",
   "execution_count": 5,
   "id": "7460f1ea",
   "metadata": {},
   "outputs": [
    {
     "name": "stdout",
     "output_type": "stream",
     "text": [
      "Zero\n"
     ]
    }
   ],
   "source": [
    "#nested ifelse\n",
    "num=0\n",
    "result=\"positive\" if num>0 else \"negative\" if num<0 else \"Zero\"\n",
    "print(result)"
   ]
  },
  {
   "cell_type": "code",
   "execution_count": 6,
   "id": "afb12ddd",
   "metadata": {},
   "outputs": [
    {
     "name": "stdout",
     "output_type": "stream",
     "text": [
      "Zero\n"
     ]
    }
   ],
   "source": [
    "num=0\n",
    "if num>0:\n",
    "    print(\"Positive\")\n",
    "elif num<0:\n",
    "    print(\"negitive\")\n",
    "else:\n",
    "    print(\"Zero\")"
   ]
  },
  {
   "cell_type": "code",
   "execution_count": 8,
   "id": "f17ef347",
   "metadata": {},
   "outputs": [
    {
     "data": {
      "text/plain": [
       "[2, 18, 4, 20, 112, 178]"
      ]
     },
     "execution_count": 8,
     "metadata": {},
     "output_type": "execute_result"
    }
   ],
   "source": [
    "#list comprehension\n",
    "l =[1,9,2,10,56,89]\n",
    "[2*x for x in l]"
   ]
  },
  {
   "cell_type": "code",
   "execution_count": 10,
   "id": "bc1e5aa0",
   "metadata": {},
   "outputs": [
    {
     "name": "stdout",
     "output_type": "stream",
     "text": [
      "2\n",
      "18\n",
      "4\n",
      "20\n",
      "112\n",
      "178\n"
     ]
    }
   ],
   "source": [
    "for x in l:\n",
    "    print(2*x)"
   ]
  },
  {
   "cell_type": "code",
   "execution_count": 14,
   "id": "f8081ef3",
   "metadata": {},
   "outputs": [
    {
     "data": {
      "text/plain": [
       "[2, 10, 56]"
      ]
     },
     "execution_count": 14,
     "metadata": {},
     "output_type": "execute_result"
    }
   ],
   "source": [
    "#prin even numbers\n",
    "[x for x in l if x%2 == 0]"
   ]
  },
  {
   "cell_type": "code",
   "execution_count": 17,
   "id": "f1139ed9",
   "metadata": {},
   "outputs": [
    {
     "name": "stdout",
     "output_type": "stream",
     "text": [
      "2\n",
      "10\n",
      "56\n"
     ]
    }
   ],
   "source": [
    "for x in l:\n",
    "    if x%2 == 0:\n",
    "        print(x)\n",
    "    "
   ]
  },
  {
   "cell_type": "code",
   "execution_count": 18,
   "id": "04f6069f",
   "metadata": {},
   "outputs": [
    {
     "data": {
      "text/plain": [
       "[1, 9, 89]"
      ]
     },
     "execution_count": 18,
     "metadata": {},
     "output_type": "execute_result"
    }
   ],
   "source": [
    "#print odd numbers\n",
    "[x for x in l if x%2 != 0]"
   ]
  },
  {
   "cell_type": "code",
   "execution_count": 20,
   "id": "391785b4",
   "metadata": {},
   "outputs": [
    {
     "data": {
      "text/plain": [
       "{'ram': [70, 71, 98, 100], 'john': [56, 98, 67, 65], 'prem': [76, 98, 91, 87]}"
      ]
     },
     "execution_count": 20,
     "metadata": {},
     "output_type": "execute_result"
    }
   ],
   "source": [
    "#dictionary comprehension\n",
    "d1={'ram':[70,71,98,100], 'john' :[56,98,67,65], 'prem' :[76,98,91,87]}\n",
    "d1"
   ]
  },
  {
   "cell_type": "code",
   "execution_count": 25,
   "id": "a13a362e",
   "metadata": {},
   "outputs": [
    {
     "data": {
      "text/plain": [
       "{'ram': 84.75, 'john': 71.5, 'prem': 88.0}"
      ]
     },
     "execution_count": 25,
     "metadata": {},
     "output_type": "execute_result"
    }
   ],
   "source": [
    "{k:sum(v)/len(v) for k,v in d1.items()}"
   ]
  },
  {
   "cell_type": "markdown",
   "id": "48c76caa",
   "metadata": {},
   "source": [
    "# write a user defined function to compute average\n"
   ]
  },
  {
   "cell_type": "code",
   "execution_count": 26,
   "id": "06c188fb",
   "metadata": {},
   "outputs": [],
   "source": [
    "#define function (reusable)\n",
    "def mean_value(given_list):\n",
    "    total = sum(given_list)\n",
    "    average_value = total/len(given_list)\n",
    "    return average_value\n",
    "    "
   ]
  },
  {
   "cell_type": "code",
   "execution_count": 28,
   "id": "7d242867",
   "metadata": {},
   "outputs": [
    {
     "data": {
      "text/plain": [
       "5.5"
      ]
     },
     "execution_count": 28,
     "metadata": {},
     "output_type": "execute_result"
    }
   ],
   "source": [
    "#call the function\n",
    "l = [1,2,3,4,5,6,7,8,9,10]\n",
    "mean_value(l)"
   ]
  },
  {
   "cell_type": "code",
   "execution_count": 29,
   "id": "a9c20166",
   "metadata": {},
   "outputs": [],
   "source": [
    "#define function (reusable)\n",
    "def mean_value(l):\n",
    "    total = sum(l)\n",
    "    average_value = total/len(l)\n",
    "    return average_value\n",
    "    "
   ]
  },
  {
   "cell_type": "code",
   "execution_count": 31,
   "id": "809f0efd",
   "metadata": {},
   "outputs": [
    {
     "data": {
      "text/plain": [
       "5.5"
      ]
     },
     "execution_count": 31,
     "metadata": {},
     "output_type": "execute_result"
    }
   ],
   "source": [
    "#call the function\n",
    "l = [1,2,3,4,5,6,7,8,9,10]\n",
    "mean_value(l)"
   ]
  },
  {
   "cell_type": "code",
   "execution_count": null,
   "id": "74479a40",
   "metadata": {},
   "outputs": [],
   "source": []
  }
 ],
 "metadata": {
  "kernelspec": {
   "display_name": "Python 3 (ipykernel)",
   "language": "python",
   "name": "python3"
  },
  "language_info": {
   "codemirror_mode": {
    "name": "ipython",
    "version": 3
   },
   "file_extension": ".py",
   "mimetype": "text/x-python",
   "name": "python",
   "nbconvert_exporter": "python",
   "pygments_lexer": "ipython3",
   "version": "3.11.4"
  }
 },
 "nbformat": 4,
 "nbformat_minor": 5
}
