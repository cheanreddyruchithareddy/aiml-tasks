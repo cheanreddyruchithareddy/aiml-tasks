{
 "cells": [
  {
   "cell_type": "code",
   "execution_count": 1,
   "id": "aa863be6",
   "metadata": {},
   "outputs": [
    {
     "name": "stdout",
     "output_type": "stream",
     "text": [
      "even\n"
     ]
    }
   ],
   "source": [
    "num = 6\n",
    "if num %2 == 0:\n",
    "    print(\"even\")\n",
    "else:\n",
    "    print(\"odd\")"
   ]
  },
  {
   "cell_type": "code",
   "execution_count": 2,
   "id": "e7055713",
   "metadata": {},
   "outputs": [
    {
     "ename": "SyntaxError",
     "evalue": "invalid syntax (2771899011.py, line 1)",
     "output_type": "error",
     "traceback": [
      "\u001b[1;36m  Cell \u001b[1;32mIn[2], line 1\u001b[1;36m\u001b[0m\n\u001b[1;33m    print(\"even\") if num %2 == 0: else: print(\"odd\")\u001b[0m\n\u001b[1;37m                                ^\u001b[0m\n\u001b[1;31mSyntaxError\u001b[0m\u001b[1;31m:\u001b[0m invalid syntax\n"
     ]
    }
   ],
   "source": [
    "print(\"even\") if num %2 == 0: else: print(\"odd\")"
   ]
  },
  {
   "cell_type": "code",
   "execution_count": 3,
   "id": "88525e44",
   "metadata": {},
   "outputs": [
    {
     "name": "stdout",
     "output_type": "stream",
     "text": [
      "Positive\n"
     ]
    }
   ],
   "source": [
    "x = 10\n",
    "result = \"Positive\" if x > 0 else \"negative\"\n",
    "print(result)"
   ]
  },
  {
   "cell_type": "code",
   "execution_count": 4,
   "id": "351e82cf",
   "metadata": {},
   "outputs": [
    {
     "name": "stdout",
     "output_type": "stream",
     "text": [
      "Adult\n"
     ]
    }
   ],
   "source": [
    "age = 18\n",
    "category = \"Adult\" if age >= 18 else \"Minor\"\n",
    "print(category)"
   ]
  },
  {
   "cell_type": "code",
   "execution_count": 5,
   "id": "a004bd6b",
   "metadata": {},
   "outputs": [
    {
     "name": "stdout",
     "output_type": "stream",
     "text": [
      "Zero\n"
     ]
    }
   ],
   "source": [
    "#nested ifelse\n",
    "num=0\n",
    "result=\"positive\" if num>0 else \"negative\" if num<0 else \"Zero\"\n",
    "print(result)"
   ]
  },
  {
   "cell_type": "code",
   "execution_count": 6,
   "id": "fabbbfad",
   "metadata": {},
   "outputs": [
    {
     "name": "stdout",
     "output_type": "stream",
     "text": [
      "Zero\n"
     ]
    }
   ],
   "source": [
    "num=0\n",
    "if num>0:\n",
    "    print(\"Positive\")\n",
    "elif num<0:\n",
    "    print(\"negitive\")\n",
    "else:\n",
    "    print(\"Zero\")"
   ]
  },
  {
   "cell_type": "code",
   "execution_count": 8,
   "id": "70a14ae1",
   "metadata": {},
   "outputs": [
    {
     "data": {
      "text/plain": [
       "[2, 18, 4, 20, 112, 178]"
      ]
     },
     "execution_count": 8,
     "metadata": {},
     "output_type": "execute_result"
    }
   ],
   "source": [
    "#list comprehension\n",
    "l =[1,9,2,10,56,89]\n",
    "[2*x for x in l]"
   ]
  },
  {
   "cell_type": "code",
   "execution_count": 10,
   "id": "c2162e5e",
   "metadata": {},
   "outputs": [
    {
     "name": "stdout",
     "output_type": "stream",
     "text": [
      "2\n",
      "18\n",
      "4\n",
      "20\n",
      "112\n",
      "178\n"
     ]
    }
   ],
   "source": [
    "for x in l:\n",
    "    print(2*x)"
   ]
  },
  {
   "cell_type": "code",
   "execution_count": 14,
   "id": "30697f66",
   "metadata": {},
   "outputs": [
    {
     "data": {
      "text/plain": [
       "[2, 10, 56]"
      ]
     },
     "execution_count": 14,
     "metadata": {},
     "output_type": "execute_result"
    }
   ],
   "source": [
    "#prin even numbers\n",
    "[x for x in l if x%2 == 0]"
   ]
  },
  {
   "cell_type": "code",
   "execution_count": 17,
   "id": "32943c95",
   "metadata": {},
   "outputs": [
    {
     "name": "stdout",
     "output_type": "stream",
     "text": [
      "2\n",
      "10\n",
      "56\n"
     ]
    }
   ],
   "source": [
    "for x in l:\n",
    "    if x%2 == 0:\n",
    "        print(x)\n",
    "    "
   ]
  },
  {
   "cell_type": "code",
   "execution_count": 18,
   "id": "eea78233",
   "metadata": {},
   "outputs": [
    {
     "data": {
      "text/plain": [
       "[1, 9, 89]"
      ]
     },
     "execution_count": 18,
     "metadata": {},
     "output_type": "execute_result"
    }
   ],
   "source": [
    "#print odd numbers\n",
    "[x for x in l if x%2 != 0]"
   ]
  },
  {
   "cell_type": "code",
   "execution_count": 20,
   "id": "8f997b43",
   "metadata": {},
   "outputs": [
    {
     "data": {
      "text/plain": [
       "{'ram': [70, 71, 98, 100], 'john': [56, 98, 67, 65], 'prem': [76, 98, 91, 87]}"
      ]
     },
     "execution_count": 20,
     "metadata": {},
     "output_type": "execute_result"
    }
   ],
   "source": [
    "#dictionary comprehension\n",
    "d1={'ram':[70,71,98,100], 'john' :[56,98,67,65], 'prem' :[76,98,91,87]}\n",
    "d1"
   ]
  },
  {
   "cell_type": "code",
   "execution_count": 25,
   "id": "9c3fba7f",
   "metadata": {},
   "outputs": [
    {
     "data": {
      "text/plain": [
       "{'ram': 84.75, 'john': 71.5, 'prem': 88.0}"
      ]
     },
     "execution_count": 25,
     "metadata": {},
     "output_type": "execute_result"
    }
   ],
   "source": [
    "{k:sum(v)/len(v) for k,v in d1.items()}"
   ]
  },
  {
   "cell_type": "markdown",
   "id": "407ea2f5",
   "metadata": {},
   "source": [
    "# write a user defined function to compute average\n"
   ]
  },
  {
   "cell_type": "code",
   "execution_count": 26,
   "id": "b7b41a68",
   "metadata": {},
   "outputs": [],
   "source": [
    "#define function (reusable)\n",
    "def mean_value(given_list):\n",
    "    total = sum(given_list)\n",
    "    average_value = total/len(given_list)\n",
    "    return average_value\n",
    "    "
   ]
  },
  {
   "cell_type": "code",
   "execution_count": 28,
   "id": "8298075a",
   "metadata": {},
   "outputs": [
    {
     "data": {
      "text/plain": [
       "5.5"
      ]
     },
     "execution_count": 28,
     "metadata": {},
     "output_type": "execute_result"
    }
   ],
   "source": [
    "#call the function\n",
    "l = [1,2,3,4,5,6,7,8,9,10]\n",
    "mean_value(l)"
   ]
  },
  {
   "cell_type": "code",
   "execution_count": 29,
   "id": "b2809ba3",
   "metadata": {},
   "outputs": [],
   "source": [
    "#define function (reusable)\n",
    "def mean_value(l):\n",
    "    total = sum(l)\n",
    "    average_value = total/len(l)\n",
    "    return average_value\n",
    "    "
   ]
  },
  {
   "cell_type": "code",
   "execution_count": 31,
   "id": "c638ce01",
   "metadata": {},
   "outputs": [
    {
     "data": {
      "text/plain": [
       "5.5"
      ]
     },
     "execution_count": 31,
     "metadata": {},
     "output_type": "execute_result"
    }
   ],
   "source": [
    "#call the function\n",
    "l = [1,2,3,4,5,6,7,8,9,10]\n",
    "mean_value(l)"
   ]
  },
  {
   "cell_type": "code",
   "execution_count": 7,
   "id": "301c6677",
   "metadata": {},
   "outputs": [],
   "source": [
    "#function with variable number\n",
    "def avg_value(*n):\n",
    "    l = len(n)\n",
    "    average = sum(n)/l\n",
    "    return average"
   ]
  },
  {
   "cell_type": "code",
   "execution_count": 8,
   "id": "ec2d610e",
   "metadata": {},
   "outputs": [
    {
     "data": {
      "text/plain": [
       "218.0"
      ]
     },
     "execution_count": 8,
     "metadata": {},
     "output_type": "execute_result"
    }
   ],
   "source": [
    "avg_value(10,20,60,100,900)"
   ]
  },
  {
   "cell_type": "code",
   "execution_count": 11,
   "id": "f12cbdff",
   "metadata": {},
   "outputs": [],
   "source": [
    "#lambda functions\n",
    "greet = lambda name : print(f\"Good morning {name}!\")"
   ]
  },
  {
   "cell_type": "code",
   "execution_count": 12,
   "id": "8bf0f295",
   "metadata": {},
   "outputs": [
    {
     "name": "stdout",
     "output_type": "stream",
     "text": [
      "Good morning Ruchitha!\n"
     ]
    }
   ],
   "source": [
    "greet(\"Ruchitha\")"
   ]
  },
  {
   "cell_type": "code",
   "execution_count": 13,
   "id": "af13e2c1",
   "metadata": {},
   "outputs": [],
   "source": [
    "#write a lambda function to print the product of three numbers\n",
    "product = lambda a,b,c : a*b*c"
   ]
  },
  {
   "cell_type": "code",
   "execution_count": 14,
   "id": "449b80db",
   "metadata": {},
   "outputs": [
    {
     "data": {
      "text/plain": [
       "24000"
      ]
     },
     "execution_count": 14,
     "metadata": {},
     "output_type": "execute_result"
    }
   ],
   "source": [
    "product(20,30,40)"
   ]
  },
  {
   "cell_type": "code",
   "execution_count": 16,
   "id": "8b637571",
   "metadata": {},
   "outputs": [],
   "source": [
    "#lambda function with comprehension\n",
    "even = lambda L : [x for x in L if x%2 ==0]"
   ]
  },
  {
   "cell_type": "code",
   "execution_count": 17,
   "id": "72e6da8b",
   "metadata": {},
   "outputs": [
    {
     "data": {
      "text/plain": [
       "[100, 38, 56, 20]"
      ]
     },
     "execution_count": 17,
     "metadata": {},
     "output_type": "execute_result"
    }
   ],
   "source": [
    "my_list = [100,3,9,38,43,56,20]\n",
    "even(my_list)"
   ]
  },
  {
   "cell_type": "code",
   "execution_count": null,
   "id": "5d2efd26",
   "metadata": {},
   "outputs": [],
   "source": []
  }
 ],
 "metadata": {
  "kernelspec": {
   "display_name": "Python 3 (ipykernel)",
   "language": "python",
   "name": "python3"
  },
  "language_info": {
   "codemirror_mode": {
    "name": "ipython",
    "version": 3
   },
   "file_extension": ".py",
   "mimetype": "text/x-python",
   "name": "python",
   "nbconvert_exporter": "python",
   "pygments_lexer": "ipython3",
   "version": "3.11.4"
  }
 },
 "nbformat": 4,
 "nbformat_minor": 5
}
