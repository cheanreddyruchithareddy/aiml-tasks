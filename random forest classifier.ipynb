{
 "cells": [
  {
   "cell_type": "code",
   "execution_count": 3,
   "id": "974df282-72e3-4312-a378-2e5f8367fa54",
   "metadata": {},
   "outputs": [],
   "source": [
    "import pandas as pd\n",
    "from sklearn.model_selection import KFold\n",
    "from sklearn.model_selection import cross_val_score\n",
    "from sklearn.tree import DecisionTreeClassifier\n",
    "from sklearn.model_selection import KFold, StratifiedKFold"
   ]
  },
  {
   "cell_type": "code",
   "execution_count": 14,
   "id": "a1c4fd09-2ba5-49d6-adcd-51db9d3ab2d6",
   "metadata": {},
   "outputs": [],
   "source": [
    "dataframe=pd.read_csv(\"diabetes.csv\")\n",
    "#dataframe"
   ]
  },
  {
   "cell_type": "markdown",
   "id": "281b6e44-621a-4c4c-b1e4-efc5320ab0bd",
   "metadata": {},
   "source": [
    "#### **Overview of Pima Indian diabetes dataset**\n",
    "\n",
    "- Preg\tNumber of times pregnant\tNumeric\t[0, 17]\n",
    "\n",
    "- Gluc\tPlasma glucose concentration at 2 Hours in an oral glucose tolerance test (GTIT)\tNumeric\t[0, 199]\n",
    "\n",
    "- BP\tDiastolic Blood Pressure (mm Hg)\tNumeric\t[0, 122]\n",
    "\n",
    "- Skin\tTriceps skin fold thickness (mm)\tNumeric\t[0, 99]\n",
    "\n",
    "- Insulin\t2-Hour Serum insulin (µh/ml)\tNumeric\t[0, 846]\n",
    "\n",
    "- BMI\tBody mass index [weight in kg/(Height in m)]\tNumeric\t[0, 67.1]\n",
    "\n",
    "- DPF\tDiabetes pedigree function\tNumeric\t[0.078, 2.42]\n",
    "\n",
    "- Age\tAge (years)\tNumeric\t[21, 81]\n",
    "\n",
    "- Outcome\tBinary value indicating non-diabetic /diabetic\tFactor\t[0,1]"
   ]
  },
  {
   "cell_type": "code",
   "execution_count": 25,
   "id": "a058293f-ddd2-4c99-8b37-20f80b1c653f",
   "metadata": {},
   "outputs": [
    {
     "name": "stdout",
     "output_type": "stream",
     "text": [
      "[0.75324675 0.76623377 0.75324675 0.80519481 0.87012987 0.84415584\n",
      " 0.74025974 0.68831169 0.72368421 0.77631579]\n",
      "0.7720779220779221\n"
     ]
    }
   ],
   "source": [
    "# random forest classification\n",
    "\n",
    "from sklearn.model_selection import KFold, StratifiedKFold\n",
    "from sklearn.model_selection import  cross_val_score\n",
    "from sklearn.ensemble import RandomForestClassifier\n",
    "\n",
    "X=dataframe.iloc[:,0:8]\n",
    "Y=dataframe.iloc[:,8]\n",
    "\n",
    "Kfold=StratifiedKFold(n_splits=10,random_state=3,shuffle=True)\n",
    "\n",
    "model=RandomForestClassifier(n_estimators=200,random_state=20,max_depth=None)\n",
    "results=cross_val_score(model, X, Y, cv=Kfold)\n",
    "print(results)\n",
    "print(results.mean())\n"
   ]
  },
  {
   "cell_type": "code",
   "execution_count": null,
   "id": "f3699ce3-262b-4a46-b23a-197cb540ea01",
   "metadata": {},
   "outputs": [],
   "source": []
  }
 ],
 "metadata": {
  "kernelspec": {
   "display_name": "Python [conda env:base] *",
   "language": "python",
   "name": "conda-base-py"
  },
  "language_info": {
   "codemirror_mode": {
    "name": "ipython",
    "version": 3
   },
   "file_extension": ".py",
   "mimetype": "text/x-python",
   "name": "python",
   "nbconvert_exporter": "python",
   "pygments_lexer": "ipython3",
   "version": "3.12.7"
  }
 },
 "nbformat": 4,
 "nbformat_minor": 5
}
